{
 "cells": [
  {
   "cell_type": "markdown",
   "id": "4a9b341b",
   "metadata": {},
   "source": [
    "# Karina Francieli Schmidt - 2023314\n",
    "\n",
    "### Lectured: James"
   ]
  },
  {
   "cell_type": "markdown",
   "id": "94d1cc29",
   "metadata": {},
   "source": [
    "To start the project, you need to call the libraries that will be used to develop the code throughout the project."
   ]
  },
  {
   "cell_type": "code",
   "execution_count": 1,
   "id": "b68a8fcf",
   "metadata": {},
   "outputs": [],
   "source": [
    "import warnings\n",
    "warnings.filterwarnings('ignore')\n",
    "\n",
    "import matplotlib.pyplot as plt\n",
    "%matplotlib inline\n",
    "\n",
    "import pandas as pd \n",
    "from sklearn.model_selection import train_test_split\n",
    "from sklearn.preprocessing import StandardScaler"
   ]
  },
  {
   "cell_type": "code",
   "execution_count": 2,
   "id": "3be334ca",
   "metadata": {},
   "outputs": [],
   "source": [
    "# Load libraries\n",
    "import pandas as pd\n",
    "from sklearn.tree import DecisionTreeClassifier       # Import Decision Tree Classifier\n",
    "from sklearn.model_selection import train_test_split  # Import train_test_split function\n",
    "from sklearn import metrics                           # Import scikit-learn metrics module for accuracy calculation\n",
    "from sklearn import tree"
   ]
  },
  {
   "cell_type": "code",
   "execution_count": 3,
   "id": "308a461a",
   "metadata": {},
   "outputs": [],
   "source": [
    "import warnings\n",
    "warnings.filterwarnings('ignore')\n",
    "\n",
    "import math\n",
    "import pandas as pd\n",
    "import numpy as np\n",
    "import statsmodels.api as sm\n",
    "from sklearn.model_selection import train_test_split\n",
    "import matplotlib.pyplot as plt\n",
    "import seaborn as sns"
   ]
  },
  {
   "cell_type": "code",
   "execution_count": 4,
   "id": "1db98231",
   "metadata": {},
   "outputs": [],
   "source": [
    "df = pd.read_csv('recipient_totals.csv')"
   ]
  },
  {
   "cell_type": "markdown",
   "id": "800cbf10",
   "metadata": {},
   "source": [
    "## DATA UNDERSTAND"
   ]
  },
  {
   "cell_type": "code",
   "execution_count": 5,
   "id": "000cbf0f",
   "metadata": {},
   "outputs": [
    {
     "data": {
      "text/html": [
       "<div>\n",
       "<style scoped>\n",
       "    .dataframe tbody tr th:only-of-type {\n",
       "        vertical-align: middle;\n",
       "    }\n",
       "\n",
       "    .dataframe tbody tr th {\n",
       "        vertical-align: top;\n",
       "    }\n",
       "\n",
       "    .dataframe thead th {\n",
       "        text-align: right;\n",
       "    }\n",
       "</style>\n",
       "<table border=\"1\" class=\"dataframe\">\n",
       "  <thead>\n",
       "    <tr style=\"text-align: right;\">\n",
       "      <th></th>\n",
       "      <th>period</th>\n",
       "      <th>programme</th>\n",
       "      <th>scheme</th>\n",
       "      <th>scheme_description</th>\n",
       "      <th>basis</th>\n",
       "      <th>recipients</th>\n",
       "    </tr>\n",
       "  </thead>\n",
       "  <tbody>\n",
       "    <tr>\n",
       "      <th>0</th>\n",
       "      <td>2014Q1</td>\n",
       "      <td>Children</td>\n",
       "      <td>BSCFA</td>\n",
       "      <td>Back To School Clothing And Footwear</td>\n",
       "      <td>Social Assistance</td>\n",
       "      <td>137</td>\n",
       "    </tr>\n",
       "    <tr>\n",
       "      <th>1</th>\n",
       "      <td>2014Q1</td>\n",
       "      <td>Children</td>\n",
       "      <td>CB</td>\n",
       "      <td>Child Benefit</td>\n",
       "      <td>Social Assistance</td>\n",
       "      <td>623739</td>\n",
       "    </tr>\n",
       "    <tr>\n",
       "      <th>2</th>\n",
       "      <td>2014Q1</td>\n",
       "      <td>Children</td>\n",
       "      <td>FIS</td>\n",
       "      <td>Family Income Supplement</td>\n",
       "      <td>Social Assistance</td>\n",
       "      <td>48327</td>\n",
       "    </tr>\n",
       "    <tr>\n",
       "      <th>3</th>\n",
       "      <td>2014Q1</td>\n",
       "      <td>Children</td>\n",
       "      <td>ORC</td>\n",
       "      <td>Guardians Payment (Contributory)</td>\n",
       "      <td>Social Insurance</td>\n",
       "      <td>487</td>\n",
       "    </tr>\n",
       "    <tr>\n",
       "      <th>4</th>\n",
       "      <td>2014Q1</td>\n",
       "      <td>Children</td>\n",
       "      <td>ORNC</td>\n",
       "      <td>Guardians Payment (Non-Contributory)</td>\n",
       "      <td>Social Assistance</td>\n",
       "      <td>221</td>\n",
       "    </tr>\n",
       "  </tbody>\n",
       "</table>\n",
       "</div>"
      ],
      "text/plain": [
       "   period programme scheme                    scheme_description  \\\n",
       "0  2014Q1  Children  BSCFA  Back To School Clothing And Footwear   \n",
       "1  2014Q1  Children     CB                         Child Benefit   \n",
       "2  2014Q1  Children    FIS              Family Income Supplement   \n",
       "3  2014Q1  Children    ORC      Guardians Payment (Contributory)   \n",
       "4  2014Q1  Children   ORNC  Guardians Payment (Non-Contributory)   \n",
       "\n",
       "               basis  recipients  \n",
       "0  Social Assistance         137  \n",
       "1  Social Assistance      623739  \n",
       "2  Social Assistance       48327  \n",
       "3   Social Insurance         487  \n",
       "4  Social Assistance         221  "
      ]
     },
     "execution_count": 5,
     "metadata": {},
     "output_type": "execute_result"
    }
   ],
   "source": [
    "df.head()"
   ]
  },
  {
   "cell_type": "code",
   "execution_count": 6,
   "id": "5512f709",
   "metadata": {},
   "outputs": [
    {
     "name": "stdout",
     "output_type": "stream",
     "text": [
      "<class 'pandas.core.frame.DataFrame'>\n",
      "RangeIndex: 1647 entries, 0 to 1646\n",
      "Data columns (total 6 columns):\n",
      " #   Column              Non-Null Count  Dtype \n",
      "---  ------              --------------  ----- \n",
      " 0   period              1647 non-null   object\n",
      " 1   programme           1647 non-null   object\n",
      " 2   scheme              1647 non-null   object\n",
      " 3   scheme_description  1647 non-null   object\n",
      " 4   basis               1647 non-null   object\n",
      " 5   recipients          1647 non-null   int64 \n",
      "dtypes: int64(1), object(5)\n",
      "memory usage: 77.3+ KB\n"
     ]
    }
   ],
   "source": [
    "df.info()"
   ]
  },
  {
   "cell_type": "code",
   "execution_count": 7,
   "id": "4c44447c",
   "metadata": {},
   "outputs": [
    {
     "data": {
      "text/plain": [
       "(1647, 6)"
      ]
     },
     "execution_count": 7,
     "metadata": {},
     "output_type": "execute_result"
    }
   ],
   "source": [
    "df.shape"
   ]
  },
  {
   "cell_type": "code",
   "execution_count": null,
   "id": "2a42529f",
   "metadata": {},
   "outputs": [],
   "source": []
  }
 ],
 "metadata": {
  "kernelspec": {
   "display_name": "Python 3 (ipykernel)",
   "language": "python",
   "name": "python3"
  },
  "language_info": {
   "codemirror_mode": {
    "name": "ipython",
    "version": 3
   },
   "file_extension": ".py",
   "mimetype": "text/x-python",
   "name": "python",
   "nbconvert_exporter": "python",
   "pygments_lexer": "ipython3",
   "version": "3.11.4"
  }
 },
 "nbformat": 4,
 "nbformat_minor": 5
}
